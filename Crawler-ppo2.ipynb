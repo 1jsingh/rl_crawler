{
 "cells": [
  {
   "cell_type": "markdown",
   "metadata": {},
   "source": [
    "### 1. Start the Environment"
   ]
  },
  {
   "cell_type": "code",
   "execution_count": 1,
   "metadata": {},
   "outputs": [],
   "source": [
    "from mlagents.envs import UnityEnvironment\n",
    "import numpy as np\n",
    "\n",
    "# Some more magic so that the notebook will reload external python modules;\n",
    "# see http://stackoverflow.com/questions/1907993/autoreload-of-modules-in-ipython\n",
    "%load_ext autoreload\n",
    "%autoreload 2"
   ]
  },
  {
   "cell_type": "markdown",
   "metadata": {},
   "source": [
    "**_Before running the code cell below_**, change the `file_name` parameter to match the location of the Reacher Unity environment.\n",
    "\n",
    "For instance, if you are using a Mac, then you downloaded `Reacher.app`.  If this file is in the same folder as the notebook, then the line below should appear as follows:\n",
    "```\n",
    "env = UnityEnvironment(file_name=\"Reacher.app\")\n",
    "```"
   ]
  },
  {
   "cell_type": "code",
   "execution_count": 2,
   "metadata": {},
   "outputs": [
    {
     "name": "stderr",
     "output_type": "stream",
     "text": [
      "INFO:mlagents.envs:\n",
      "'Academy' started successfully!\n",
      "Unity Academy name: Academy\n",
      "        Number of Brains: 1\n",
      "        Number of Training Brains : 1\n",
      "        Reset Parameters :\n",
      "\t\t\n",
      "Unity brain name: CrawlerStaticLearning\n",
      "        Number of Visual Observations (per agent): 0\n",
      "        Vector Observation space size (per agent): 129\n",
      "        Number of stacked Vector Observation: 1\n",
      "        Vector Action space type: continuous\n",
      "        Vector Action space size (per agent): [20]\n",
      "        Vector Action descriptions: , , , , , , , , , , , , , , , , , , , \n"
     ]
    }
   ],
   "source": [
    "env = UnityEnvironment(file_name='unity_envs/Crawler_StaticTarget')"
   ]
  },
  {
   "cell_type": "markdown",
   "metadata": {},
   "source": [
    "Environments contain **_brains_** which are responsible for deciding the actions of their associated agents. Here we check for the first brain available, and set it as the default brain we will be controlling from Python."
   ]
  },
  {
   "cell_type": "code",
   "execution_count": 3,
   "metadata": {},
   "outputs": [],
   "source": [
    "# get the default brain\n",
    "brain_name = env.brain_names[0]\n",
    "brain = env.brains[brain_name]"
   ]
  },
  {
   "cell_type": "markdown",
   "metadata": {},
   "source": [
    "### 2. Examine the State and Action Spaces\n",
    "\n",
    "* Set-up: A creature with 4 arms and 4 forearms.\n",
    "* Goal: The agents must move its body toward the goal direction without falling.\n",
    "* CrawlerStaticTarget - Goal direction is always forward.\n",
    "* CrawlerDynamicTarget- Goal direction is randomized.\n",
    "* Agents: The environment contains 3 agent linked to a single Brain.\n",
    "* Agent Reward Function (independent):\n",
    "* +0.03 times body velocity in the goal direction.\n",
    "* +0.01 times body direction alignment with goal direction.\n",
    "* Brains: One Brain with the following observation/action space.\n",
    "* Vector Observation space: 117 variables corresponding to position, rotation, velocity, and angular velocities of each limb plus the acceleration and angular acceleration of the body.\n",
    "* Vector Action space: (Continuous) Size of 20, corresponding to target rotations for joints.\n",
    "* Visual Observations: None.\n",
    "* Reset Parameters: None\n",
    "* Benchmark Mean Reward for CrawlerStaticTarget: 2000\n",
    "* Benchmark Mean Reward for CrawlerDynamicTarget: 400\n",
    "\n",
    "Lets print some information about the environment."
   ]
  },
  {
   "cell_type": "code",
   "execution_count": 4,
   "metadata": {},
   "outputs": [
    {
     "name": "stdout",
     "output_type": "stream",
     "text": [
      "Number of agents: 12\n",
      "Size of each action: 20\n",
      "There are 12 agents. Each observes a state with length: 129\n",
      "The state for the first agent looks like: [ 0.00000000e+00  0.00000000e+00  0.00000000e+00  2.25000000e+00\n",
      "  1.00000000e+00  0.00000000e+00  1.78813934e-07  0.00000000e+00\n",
      "  1.00000000e+00  0.00000000e+00  0.00000000e+00  0.00000000e+00\n",
      "  0.00000000e+00  0.00000000e+00  0.00000000e+00  0.00000000e+00\n",
      "  0.00000000e+00  0.00000000e+00  0.00000000e+00  0.00000000e+00\n",
      "  0.00000000e+00  0.00000000e+00  0.00000000e+00  0.00000000e+00\n",
      "  6.06093168e-01 -1.42857209e-01 -6.06078804e-01  0.00000000e+00\n",
      "  0.00000000e+00  0.00000000e+00  0.00000000e+00  0.00000000e+00\n",
      "  0.00000000e+00  0.00000000e+00  0.00000000e+00  0.00000000e+00\n",
      "  0.00000000e+00  0.00000000e+00  1.33339906e+00 -1.42857209e-01\n",
      " -1.33341408e+00  0.00000000e+00  0.00000000e+00  0.00000000e+00\n",
      "  0.00000000e+00  0.00000000e+00  0.00000000e+00  0.00000000e+00\n",
      "  0.00000000e+00  0.00000000e+00  0.00000000e+00  0.00000000e+00\n",
      " -6.06093347e-01 -1.42857209e-01 -6.06078625e-01  0.00000000e+00\n",
      "  0.00000000e+00  0.00000000e+00  0.00000000e+00  0.00000000e+00\n",
      "  0.00000000e+00  0.00000000e+00  0.00000000e+00  0.00000000e+00\n",
      "  0.00000000e+00  0.00000000e+00 -1.33339953e+00 -1.42857209e-01\n",
      " -1.33341372e+00  0.00000000e+00  0.00000000e+00  0.00000000e+00\n",
      "  0.00000000e+00  0.00000000e+00  0.00000000e+00  0.00000000e+00\n",
      "  0.00000000e+00  0.00000000e+00  0.00000000e+00  0.00000000e+00\n",
      " -6.06093168e-01 -1.42857209e-01  6.06078804e-01  0.00000000e+00\n",
      "  0.00000000e+00  0.00000000e+00  0.00000000e+00  0.00000000e+00\n",
      "  0.00000000e+00  0.00000000e+00  0.00000000e+00  0.00000000e+00\n",
      "  0.00000000e+00  0.00000000e+00 -1.33339906e+00 -1.42857209e-01\n",
      "  1.33341408e+00  0.00000000e+00  0.00000000e+00  0.00000000e+00\n",
      "  0.00000000e+00  0.00000000e+00  0.00000000e+00  0.00000000e+00\n",
      "  0.00000000e+00  0.00000000e+00  0.00000000e+00  0.00000000e+00\n",
      "  6.06093347e-01 -1.42857209e-01  6.06078625e-01  0.00000000e+00\n",
      "  0.00000000e+00  0.00000000e+00  0.00000000e+00  0.00000000e+00\n",
      "  0.00000000e+00  0.00000000e+00  0.00000000e+00  0.00000000e+00\n",
      "  0.00000000e+00  0.00000000e+00  1.33339953e+00 -1.42857209e-01\n",
      "  1.33341372e+00  0.00000000e+00  0.00000000e+00  0.00000000e+00\n",
      "  0.00000000e+00]\n"
     ]
    }
   ],
   "source": [
    "# reset the environment\n",
    "env_info = env.reset(train_mode=True)[brain_name]\n",
    "\n",
    "# number of agents\n",
    "num_agents = len(env_info.agents)\n",
    "print('Number of agents:', num_agents)\n",
    "\n",
    "# size of each action\n",
    "action_size = brain.vector_action_space_size[0]\n",
    "print('Size of each action:', action_size)\n",
    "\n",
    "# examine the state space \n",
    "states = env_info.vector_observations\n",
    "state_size = states.shape[1]\n",
    "print('There are {} agents. Each observes a state with length: {}'.format(states.shape[0], state_size))\n",
    "print('The state for the first agent looks like:', states[0])"
   ]
  },
  {
   "cell_type": "markdown",
   "metadata": {},
   "source": [
    "### 3. Take Random Actions in the Environment"
   ]
  },
  {
   "cell_type": "code",
   "execution_count": 5,
   "metadata": {},
   "outputs": [
    {
     "name": "stdout",
     "output_type": "stream",
     "text": [
      "Total score (averaged over agents) this episode: 0.20592984704611203\n"
     ]
    }
   ],
   "source": [
    "env_info = env.reset(train_mode=False)[brain_name]     # reset the environment    \n",
    "states = env_info.vector_observations                  # get the current state (for each agent)\n",
    "scores = np.zeros(num_agents) # initialize the score (for each agent)\n",
    "step=0\n",
    "while True:\n",
    "    actions = np.random.randn(num_agents, action_size) # select an action (for each agent)\n",
    "    actions = np.clip(actions, -1, 1)                  # all actions between -1 and 1\n",
    "    env_info = env.step(actions)[brain_name]           # send all actions to tne environment\n",
    "    next_states = env_info.vector_observations         # get next state (for each agent)\n",
    "    rewards = env_info.rewards                         # get reward (for each agent)\n",
    "    dones = env_info.local_done                        # see if episode finished\n",
    "    scores += env_info.rewards                         # update the score (for each agent)\n",
    "    states = next_states                               # roll over states to next time step\n",
    "    step+=1\n",
    "    if np.any(dones):                                  # exit loop if episode finished\n",
    "        break\n",
    "print('Total score (averaged over agents) this episode: {}'.format(np.mean(scores)))"
   ]
  },
  {
   "cell_type": "markdown",
   "metadata": {},
   "source": [
    "### 4. Training the agent!\n",
    "\n",
    "Now it's turn to train an agent to solve the environment!  When training the environment, we have to set `train_mode=True`, so that the line for resetting the environment looks like the following:\n",
    "```python\n",
    "env_info = env.reset(train_mode=True)[brain_name]\n",
    "```"
   ]
  },
  {
   "cell_type": "code",
   "execution_count": 6,
   "metadata": {},
   "outputs": [
    {
     "name": "stdout",
     "output_type": "stream",
     "text": [
      "The autoreload extension is already loaded. To reload it, use:\n",
      "  %reload_ext autoreload\n"
     ]
    }
   ],
   "source": [
    "import random\n",
    "import datetime\n",
    "import torch\n",
    "import numpy as np\n",
    "from collections import deque\n",
    "import matplotlib.pyplot as plt\n",
    "%matplotlib inline\n",
    "\n",
    "#pytorch\n",
    "import torch\n",
    "import torch.nn as nn\n",
    "import torch.nn.functional as F\n",
    "import torch.optim as optim\n",
    "from torch.distributions import Normal\n",
    "\n",
    "# imports for rendering outputs in Jupyter.\n",
    "from JSAnimation.IPython_display import display_animation\n",
    "from matplotlib import animation\n",
    "from IPython.display import display\n",
    "\n",
    "# Some more magic so that the notebook will reload external python modules;\n",
    "# see http://stackoverflow.com/questions/1907993/autoreload-of-modules-in-ipython\n",
    "%load_ext autoreload\n",
    "%autoreload 2"
   ]
  },
  {
   "cell_type": "code",
   "execution_count": 7,
   "metadata": {},
   "outputs": [
    {
     "name": "stdout",
     "output_type": "stream",
     "text": [
      "using cpu\n"
     ]
    }
   ],
   "source": [
    "# defining the device\n",
    "device = torch.device(\"cuda:0\" if torch.cuda.is_available() else \"cpu\")\n",
    "print (\"using\",device)"
   ]
  },
  {
   "cell_type": "markdown",
   "metadata": {},
   "source": [
    "### 3. Define policy network (Actor Critic style)"
   ]
  },
  {
   "cell_type": "code",
   "execution_count": 8,
   "metadata": {},
   "outputs": [],
   "source": [
    "state_size = brain.vector_observation_space_size\n",
    "action_size = brain.vector_action_space_size\n",
    "action_low = -1\n",
    "action_high = 1\n",
    "\n",
    "# define actor critic network\n",
    "class ActorCritic(nn.Module):\n",
    "    \n",
    "    def __init__(self,state_size,action_size,action_high,action_low,hidden_size=32):\n",
    "        super(ActorCritic, self).__init__()\n",
    "        \n",
    "        # action range\n",
    "        self.action_high = torch.tensor(action_high).to(device)\n",
    "        self.action_low = torch.tensor(action_low).to(device)\n",
    "        \n",
    "        self.std = nn.Parameter(torch.zeros(action_size))\n",
    "        \n",
    "        # common network\n",
    "        self.fc1 = nn.Linear(state_size,512)\n",
    "        \n",
    "        # actor network\n",
    "        self.fc2_actor = nn.Linear(512,256)\n",
    "        self.fc3_action = nn.Linear(256,action_size)\n",
    "        #self.fc3_std = nn.Linear(64,action_size)\n",
    "        \n",
    "        # critic network\n",
    "        self.fc2_critic = nn.Linear(512,64)\n",
    "        self.fc3_critic = nn.Linear(64,1)\n",
    "    \n",
    "    def forward(self,state):\n",
    "        # common network\n",
    "        x = F.relu(self.fc1(state))\n",
    "        \n",
    "        # actor network\n",
    "        x_actor = F.relu(self.fc2_actor(x))\n",
    "        action_mean = F.sigmoid(self.fc3_action(x_actor))\n",
    "        ## rescale action mean\n",
    "        action_mean_ = (self.action_high-self.action_low)*action_mean + self.action_low\n",
    "        #action_std = F.sigmoid(self.fc3_std(x_actor))\n",
    "        \n",
    "        # critic network\n",
    "        x_critic = F.relu(self.fc2_critic(x))\n",
    "        v = self.fc3_critic(x_critic)\n",
    "        return action_mean_,v\n",
    "    \n",
    "    def act(self,state,action=None):\n",
    "        # converting state from numpy array to pytorch tensor on the \"device\"\n",
    "        state = torch.from_numpy(state).float().to(device)\n",
    "        action_mean,v = self.forward(state)\n",
    "        prob_dist = Normal(action_mean,F.softplus(self.std))\n",
    "        if action is None:\n",
    "            action = prob_dist.sample()\n",
    "        log_prob = prob_dist.log_prob(action).sum(-1).unsqueeze(-1)\n",
    "        entropy = prob_dist.entropy().sum(-1).unsqueeze(-1)\n",
    "        return {'a': action,\n",
    "                'log_pi_a': log_prob,\n",
    "                'ent': entropy,\n",
    "                'mean': action_mean,\n",
    "                'v': v}"
   ]
  },
  {
   "cell_type": "markdown",
   "metadata": {},
   "source": [
    "### 4. Storage class"
   ]
  },
  {
   "cell_type": "code",
   "execution_count": 9,
   "metadata": {},
   "outputs": [],
   "source": [
    "class Storage:\n",
    "    def __init__(self, size, keys=None):\n",
    "        if keys is None:\n",
    "            keys = []\n",
    "        keys = keys + ['s', 'a', 'r', 'm',\n",
    "                       'v', 'q', 'pi', 'log_pi', 'ent',\n",
    "                       'adv', 'ret', 'q_a', 'log_pi_a',\n",
    "                       'mean']\n",
    "        self.keys = keys\n",
    "        self.size = size\n",
    "        self.reset()\n",
    "\n",
    "    def add(self, data):\n",
    "        for k, v in data.items():\n",
    "            assert k in self.keys\n",
    "            getattr(self, k).append(v)\n",
    "\n",
    "    def placeholder(self):\n",
    "        for k in self.keys:\n",
    "            v = getattr(self, k)\n",
    "            if len(v) == 0:\n",
    "                setattr(self, k, [None] * self.size)\n",
    "\n",
    "    def reset(self):\n",
    "        for key in self.keys:\n",
    "            setattr(self, key, [])\n",
    "\n",
    "    def cat(self, keys):\n",
    "        data = [getattr(self, k)[:self.size] for k in keys]\n",
    "        return map(lambda x: torch.cat(x, dim=0), data)"
   ]
  },
  {
   "cell_type": "markdown",
   "metadata": {},
   "source": [
    "### 4. PPO agent"
   ]
  },
  {
   "cell_type": "code",
   "execution_count": 10,
   "metadata": {},
   "outputs": [],
   "source": [
    "from collections import deque\n",
    "from itertools import accumulate\n",
    "import torch.tensor as tensor\n",
    "\n",
    "def random_sample(indices, batch_size):\n",
    "    indices = np.asarray(np.random.permutation(indices))\n",
    "    batches = indices[:len(indices) // batch_size * batch_size].reshape(-1, batch_size)\n",
    "    for batch in batches:\n",
    "        yield batch\n",
    "    r = len(indices) % batch_size\n",
    "    if r:\n",
    "        yield indices[-r:]\n",
    "        \n",
    "class Agent:\n",
    "    \n",
    "    def __init__(self,env,learning_rate=1e-3):\n",
    "        self.env = env\n",
    "        nS = brain.vector_observation_space_size\n",
    "        nA = brain.vector_action_space_size[0]\n",
    "        self.policy = ActorCritic(state_size=nS,hidden_size=128,action_size=nA,\n",
    "                             action_low=action_low,action_high=action_high).to(device)\n",
    "        self.optimizer = optim.RMSprop(self.policy.parameters(), lr=learning_rate)\n",
    "        \n",
    "        # reset the environment\n",
    "        env_info = self.env.reset(train_mode=True)[brain_name]\n",
    "        self.states = env_info.vector_observations\n",
    "        \n",
    "        self.episode_rewards_window = deque(maxlen=100)\n",
    "        self.episode_rewards = []\n",
    "        num_trajectories = 12\n",
    "        self.online_rewards = np.zeros(num_trajectories)\n",
    "    \n",
    "        \n",
    "    def train(self,max_opt_steps=1000,num_trajectories=12,rollout_length=2048,mini_batch_size=64,gamma=.99,\n",
    "              target_score=-250,use_gae=False,gae_tau=0.95,PRINT_EVERY=100):\n",
    "        \n",
    "        for opt_step in range(max_opt_steps):\n",
    "        \n",
    "            storage = Storage(rollout_length)\n",
    "            states = self.states\n",
    "            for _ in range(rollout_length):\n",
    "                prediction = self.policy.act(states)\n",
    "                \n",
    "                # send all actions to tne environment\n",
    "                env_info = self.env.step((prediction['a']).cpu().numpy())[brain_name]\n",
    "                \n",
    "                next_states = np.array(env_info.vector_observations)         # get next state (for each agent)\n",
    "                rewards = np.array(env_info.rewards)                      # get reward (for each agent)\n",
    "                terminals = np.array(env_info.local_done)                  # see if episode finished\n",
    "                \n",
    "                self.online_rewards += rewards\n",
    "                for i, terminal in enumerate(terminals):\n",
    "                    if terminals[i]:\n",
    "                        self.episode_rewards.append(self.online_rewards[i])\n",
    "                        self.episode_rewards_window.append(self.online_rewards[i])\n",
    "                        self.online_rewards[i] = 0\n",
    "                \n",
    "                storage.add(prediction)\n",
    "                storage.add({'r': tensor(rewards).unsqueeze(-1).float().to(device),\n",
    "                             'm': tensor(1 - terminals).unsqueeze(-1).float().to(device),\n",
    "                             's': tensor(states).to(device)})\n",
    "                states = next_states\n",
    "\n",
    "            self.states = states\n",
    "            prediction = self.policy.act(states)\n",
    "            storage.add(prediction)\n",
    "            storage.placeholder()\n",
    "\n",
    "            advantages = tensor(np.zeros((num_trajectories, 1))).float().to(device)\n",
    "            returns = prediction['v'].detach()\n",
    "            for i in reversed(range(rollout_length)):\n",
    "                returns = storage.r[i] + gamma * storage.m[i] * returns\n",
    "                if not use_gae:\n",
    "                    advantages = returns - storage.v[i].detach()\n",
    "                else:\n",
    "                    td_error = storage.r[i] + gamma * storage.m[i] * storage.v[i + 1] - storage.v[i]\n",
    "                    advantages = advantages * gae_tau * gamma * storage.m[i] + td_error\n",
    "                storage.adv[i] = advantages.detach()\n",
    "                storage.ret[i] = returns.detach()\n",
    "\n",
    "            states, actions, log_probs_old, returns, advantages = storage.cat(['s', 'a', 'log_pi_a', 'ret', 'adv'])\n",
    "            actions = actions.detach()\n",
    "            log_probs_old = log_probs_old.detach()\n",
    "            advantages = (advantages - advantages.mean()) / advantages.std()\n",
    "            \n",
    "            ppo_ratio_clip = 0.2\n",
    "            gradient_clip = 0.5\n",
    "            entropy_weight = 0.0\n",
    "            \n",
    "            for _ in range(10):\n",
    "                sampler = random_sample(np.arange(states.size(0)), mini_batch_size)\n",
    "                for batch_indices in sampler:\n",
    "                    batch_indices = tensor(batch_indices).long()\n",
    "                    sampled_states = states[batch_indices]\n",
    "                    sampled_actions = actions[batch_indices]\n",
    "                    sampled_log_probs_old = log_probs_old[batch_indices]\n",
    "                    sampled_returns = returns[batch_indices]\n",
    "                    sampled_advantages = advantages[batch_indices]\n",
    "\n",
    "                    prediction = self.policy.act(sampled_states.cpu().numpy(), sampled_actions)\n",
    "                    ratio = (prediction['log_pi_a'] - sampled_log_probs_old).exp()\n",
    "                    obj = ratio * sampled_advantages\n",
    "                    obj_clipped = ratio.clamp(1.0 - ppo_ratio_clip,\n",
    "                                              1.0 + ppo_ratio_clip) * sampled_advantages\n",
    "                    policy_loss = -torch.min(obj, obj_clipped).mean() - entropy_weight * prediction['ent'].mean()\n",
    "\n",
    "                    value_loss = 0.5 * (sampled_returns - prediction['v']).pow(2).mean()\n",
    "\n",
    "                    self.optimizer.zero_grad()\n",
    "                    (policy_loss + value_loss).backward()\n",
    "                    nn.utils.clip_grad_norm_(self.policy.parameters(), gradient_clip)\n",
    "                    self.optimizer.step()\n",
    "            \n",
    "            #printing progress\n",
    "            if opt_step % PRINT_EVERY == 0:\n",
    "                print (\"Opt step: {}\\t Avg reward: {:.2f}\\t std: {}\".format(opt_step,np.mean(self.episode_rewards_window),\n",
    "                                                                             self.policy.std))\n",
    "                # save the policy\n",
    "                torch.save(self.policy, 'ppo-crawler.policy')\n",
    "            \n",
    "            if np.mean(self.episode_rewards_window)>= target_score:\n",
    "                print (\"Environment solved in {} optimization steps! ... Avg reward : {:.2f}\".format(opt_step-100,\n",
    "                                                                                          np.mean(self.episode_rewards_window)))\n",
    "                # save the policy\n",
    "                torch.save(self.policy, 'ppo-crawler.policy')\n",
    "                break\n",
    "                \n",
    "        return self.episode_rewards"
   ]
  },
  {
   "cell_type": "markdown",
   "metadata": {},
   "source": [
    "### 5. Train the agent"
   ]
  },
  {
   "cell_type": "code",
   "execution_count": null,
   "metadata": {},
   "outputs": [],
   "source": [
    "# lets define and train our agent\n",
    "agent = Agent(env=env,learning_rate=1e-4)"
   ]
  },
  {
   "cell_type": "code",
   "execution_count": null,
   "metadata": {
    "scrolled": false
   },
   "outputs": [],
   "source": [
    "scores = agent.train(max_opt_steps=2000,gamma=0.98,target_score=600,use_gae=True,PRINT_EVERY=1)"
   ]
  },
  {
   "cell_type": "code",
   "execution_count": null,
   "metadata": {},
   "outputs": [],
   "source": []
  },
  {
   "cell_type": "code",
   "execution_count": 11,
   "metadata": {},
   "outputs": [],
   "source": [
    "# uncomment this cell to load the trained policy for Pendulum-v0\n",
    "# load policy\n",
    "policy =  torch.load('ppo-crawler.policy',map_location='cpu')\n",
    "agent = Agent(env)\n",
    "agent.policy = policy"
   ]
  },
  {
   "cell_type": "code",
   "execution_count": null,
   "metadata": {},
   "outputs": [],
   "source": []
  },
  {
   "cell_type": "code",
   "execution_count": 15,
   "metadata": {},
   "outputs": [
    {
     "name": "stderr",
     "output_type": "stream",
     "text": [
      "/Users/jsingh/anaconda3/envs/cv3/lib/python3.6/site-packages/torch/nn/functional.py:1332: UserWarning: nn.functional.sigmoid is deprecated. Use torch.sigmoid instead.\n",
      "  warnings.warn(\"nn.functional.sigmoid is deprecated. Use torch.sigmoid instead.\")\n"
     ]
    },
    {
     "name": "stdout",
     "output_type": "stream",
     "text": [
      "Total reward: 17.941041075624526\n"
     ]
    }
   ],
   "source": [
    "frames = []\n",
    "total_rewards = np.zeros(12)\n",
    "\n",
    "# reset the environment\n",
    "env_info = env.reset(train_mode=False)[brain_name]\n",
    "states = np.array(env_info.vector_observations)\n",
    "value = []\n",
    "r = []\n",
    "for t in range(2000):\n",
    "    prediction = agent.policy.act(states)\n",
    "    action  = prediction['a'].cpu().numpy()\n",
    "    v = prediction['v'].detach().cpu().numpy()\n",
    "    #frames.append(env.render(mode='rgb_array')) \n",
    "    \n",
    "    # send all actions to tne environment\n",
    "    env_info = env.step(action)[brain_name]\n",
    "\n",
    "    next_states = np.array(env_info.vector_observations)         # get next state (for each agent)\n",
    "    rewards = np.array(env_info.rewards)                         # get reward (for each agent)\n",
    "    terminals = np.array(env_info.local_done)                    # see if episode finished\n",
    "    \n",
    "    #value.append(v.squeeze())\n",
    "    #r.append(reward)\n",
    "    states=next_states\n",
    "    total_rewards+= rewards\n",
    "    \n",
    "    if np.any(terminals):\n",
    "        for i,terminal in enumerate(terminals):\n",
    "            if terminal:\n",
    "                eps_reward = total_rewards[i]\n",
    "                break\n",
    "        break\n",
    "\n",
    "print (\"Total reward:\",eps_reward)\n",
    "#animate_frames(frames)"
   ]
  },
  {
   "cell_type": "code",
   "execution_count": null,
   "metadata": {},
   "outputs": [],
   "source": []
  }
 ],
 "metadata": {
  "kernelspec": {
   "display_name": "cv3",
   "language": "python",
   "name": "cv3"
  },
  "language_info": {
   "codemirror_mode": {
    "name": "ipython",
    "version": 3
   },
   "file_extension": ".py",
   "mimetype": "text/x-python",
   "name": "python",
   "nbconvert_exporter": "python",
   "pygments_lexer": "ipython3",
   "version": "3.6.8"
  }
 },
 "nbformat": 4,
 "nbformat_minor": 2
}
